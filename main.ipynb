{
 "cells": [
  {
   "cell_type": "markdown",
   "id": "fa262ff5",
   "metadata": {},
   "source": [
    "# STEP 1"
   ]
  },
  {
   "cell_type": "code",
   "execution_count": 1,
   "id": "bfb04025",
   "metadata": {},
   "outputs": [],
   "source": [
    "import torch\n",
    "import torchvision\n",
    "from torchvision import datasets, transforms\n",
    "import matplotlib.pyplot as plt"
   ]
  },
  {
   "cell_type": "code",
   "execution_count": 2,
   "id": "fbd26862",
   "metadata": {},
   "outputs": [
    {
     "name": "stderr",
     "output_type": "stream",
     "text": [
      "100.0%\n",
      "100.0%\n",
      "100.0%\n",
      "100.0%\n"
     ]
    },
    {
     "data": {
      "image/png": "[encoded data removed]",
      "text/plain": [
       "<Figure size 1000x400 with 6 Axes>"
      ]
     },
     "metadata": {},
     "output_type": "display_data"
    }
   ],
   "source": [
    "# Trasformazione per convertire le immagini in tensor e normalizzarle\n",
    "transform = transforms.Compose([\n",
    "    transforms.ToTensor()\n",
    "])\n",
    "\n",
    "# Scarica MNIST (70k immagini) – la prima volta può metterci un po'\n",
    "train_dataset = datasets.MNIST(root='data', train=True, download=True, transform=transform)\n",
    "test_dataset = datasets.MNIST(root='data', train=False, download=True, transform=transform)\n",
    "\n",
    "# DataLoader per iterare facilmente sui dati\n",
    "train_loader = torch.utils.data.DataLoader(train_dataset, batch_size=64, shuffle=True)\n",
    "\n",
    "# Mostra un batch di immagini\n",
    "examples = enumerate(train_loader)\n",
    "batch_idx, (images, labels) = next(examples)\n",
    "\n",
    "# Visualizza le prime 6 immagini\n",
    "plt.figure(figsize=(10,4))\n",
    "for i in range(6):\n",
    "    plt.subplot(1, 6, i+1)\n",
    "    plt.imshow(images[i][0], cmap='gray')\n",
    "    plt.title(f\"Label: {labels[i].item()}\")\n",
    "    plt.axis('off')\n",
    "plt.show()\n"
   ]
  },
  {
   "cell_type": "markdown",
   "id": "f3893e7d",
   "metadata": {},
   "source": [
    "# STEP 2"
   ]
  },
  {
   "cell_type": "code",
   "execution_count": 3,
   "id": "82c2e597",
   "metadata": {},
   "outputs": [],
   "source": [
    "import torch.nn as nn\n",
    "import torch.nn.functional as F\n",
    "import torch.optim as optim"
   ]
  },
  {
   "cell_type": "code",
   "execution_count": 4,
   "id": "8edf7a28",
   "metadata": {},
   "outputs": [],
   "source": [
    "# Definizione della rete neurale MLP\n",
    "class Net(nn.Module):\n",
    "    def __init__(self):\n",
    "        super(Net, self).__init__()\n",
    "        self.fc1 = nn.Linear(28 * 28, 128)\n",
    "        self.fc2 = nn.Linear(128, 64)\n",
    "        self.fc3 = nn.Linear(64, 10)  # 10 classi: da 0 a 9\n",
    "\n",
    "    def forward(self, x):\n",
    "        x = x.view(-1, 28*28)       # Flatten dell'immagine\n",
    "        x = F.relu(self.fc1(x))     # Primo strato\n",
    "        x = F.relu(self.fc2(x))     # Secondo strato\n",
    "        x = self.fc3(x)             # Output grezzo\n",
    "        return x"
   ]
  },
  {
   "cell_type": "code",
   "execution_count": 5,
   "id": "2bb2eccd",
   "metadata": {},
   "outputs": [
    {
     "name": "stdout",
     "output_type": "stream",
     "text": [
      "Epoch 1, Loss: 327.4969\n"
     ]
    }
   ],
   "source": [
    "model = Net()\n",
    "optimizer = optim.Adam(model.parameters(), lr=0.001)\n",
    "criterion = nn.CrossEntropyLoss()\n",
    "\n",
    "# Allenamento per 1 epoca (puoi aumentare a 5 o 10)\n",
    "for epoch in range(1):\n",
    "    model.train()\n",
    "    total_loss = 0\n",
    "    for images, labels in train_loader:\n",
    "        optimizer.zero_grad()\n",
    "        output = model(images)\n",
    "        loss = criterion(output, labels)\n",
    "        loss.backward()\n",
    "        optimizer.step()\n",
    "        total_loss += loss.item()\n",
    "    print(f\"Epoch {epoch+1}, Loss: {total_loss:.4f}\")\n"
   ]
  },
  {
   "cell_type": "code",
   "execution_count": 6,
   "id": "ca9a1b3b",
   "metadata": {},
   "outputs": [
    {
     "name": "stdout",
     "output_type": "stream",
     "text": [
      "Test Accuracy: 94.65%\n"
     ]
    }
   ],
   "source": [
    "correct = 0\n",
    "total = 0\n",
    "model.eval()  # Disattiva dropout/batchnorm (non usati qui, ma buona pratica)\n",
    "\n",
    "with torch.no_grad():\n",
    "    for images, labels in torch.utils.data.DataLoader(test_dataset, batch_size=64):\n",
    "        outputs = model(images)\n",
    "        _, predicted = torch.max(outputs.data, 1)\n",
    "        total += labels.size(0)\n",
    "        correct += (predicted == labels).sum().item()\n",
    "\n",
    "accuracy = 100 * correct / total\n",
    "print(f\"Test Accuracy: {accuracy:.2f}%\")\n"
   ]
  },
  {
   "cell_type": "markdown",
   "id": "7a54e3e4",
   "metadata": {},
   "source": [
    "# STEP 3 - Single image attack"
   ]
  },
  {
   "cell_type": "code",
   "execution_count": 7,
   "id": "3c511f92",
   "metadata": {},
   "outputs": [],
   "source": [
    "# 1. Funzione di attacco FGSM\n",
    "def fgsm_attack(image, epsilon, data_grad):\n",
    "    \"\"\"\n",
    "    Applica l'attacco FGSM all'immagine.\n",
    "    \n",
    "    image:      immagine originale (tensor)\n",
    "    epsilon:    quantità di rumore da aggiungere\n",
    "    data_grad:  gradiente della loss rispetto all'immagine\n",
    "    \"\"\"\n",
    "    # Prende il segno del gradiente: solo direzione, non valore\n",
    "    sign_data_grad = data_grad.sign()\n",
    "    \n",
    "    # Aggiunge il rumore all'immagine originale\n",
    "    perturbed_image = image + epsilon * sign_data_grad\n",
    "\n",
    "    # Clippa i valori per restare tra 0 e 1 (limite immagine)\n",
    "    perturbed_image = torch.clamp(perturbed_image, 0, 1)\n",
    "    \n",
    "    return perturbed_image\n"
   ]
  },
  {
   "cell_type": "code",
   "execution_count": 8,
   "id": "7ee8eed0",
   "metadata": {},
   "outputs": [],
   "source": [
    "epsilon = 0.2  # quanto rumore vuoi aggiungere (es. 0.1 = lieve, 0.3 = forte)\n"
   ]
  },
  {
   "cell_type": "code",
   "execution_count": 9,
   "id": "9d476054",
   "metadata": {},
   "outputs": [
    {
     "name": "stdout",
     "output_type": "stream",
     "text": [
      "Initial prediction: 7\n",
      "Prediction after attack: 3\n"
     ]
    },
    {
     "data": {
      "image/png": "[encoded data removed]",
      "text/plain": [
       "<Figure size 1000x400 with 2 Axes>"
      ]
     },
     "metadata": {},
     "output_type": "display_data"
    }
   ],
   "source": [
    "# Troviamo un esempio che il modello classifica correttamente\n",
    "model.eval()\n",
    "\n",
    "# Carichiamo una sola immagine e label vera\n",
    "image, label = test_dataset[0]\n",
    "image = image.unsqueeze(0)  # aggiunge dimensione batch: [1, 1, 28, 28]\n",
    "label = torch.tensor([label])  # label come tensor\n",
    "\n",
    "# Abilita il calcolo del gradiente sull'immagine\n",
    "image.requires_grad = True\n",
    "\n",
    "# Inference: calcolo dell’output\n",
    "output = model(image)\n",
    "init_pred = output.max(1, keepdim=True)[1]  # classe predetta\n",
    "\n",
    "print(\"Initial prediction:\", init_pred.item())\n",
    "\n",
    "# Se la predizione è sbagliata, salta (non ha senso attaccare)\n",
    "if init_pred.item() != label.item():\n",
    "    print(\"Modello già sbaglia, skip\")\n",
    "else:\n",
    "    # Calcola la loss normale\n",
    "    loss = criterion(output, label)\n",
    "\n",
    "    # Backprop per calcolare il gradiente della loss rispetto all'immagine\n",
    "    model.zero_grad()\n",
    "    loss.backward()\n",
    "    data_grad = image.grad.data\n",
    "\n",
    "    # Applica l'attacco FGSM\n",
    "    perturbed_data = fgsm_attack(image, epsilon, data_grad)\n",
    "\n",
    "    # Rilancia la predizione sul dato modificato\n",
    "    output_perturbed = model(perturbed_data)\n",
    "    final_pred = output_perturbed.max(1, keepdim=True)[1]\n",
    "\n",
    "    print(\"Prediction after attack:\", final_pred.item())\n",
    "\n",
    "    # Visualizzazione\n",
    "    plt.figure(figsize=(10, 4))\n",
    "    plt.subplot(1, 2, 1)\n",
    "    plt.imshow(image.squeeze().detach().numpy(), cmap=\"gray\")\n",
    "    plt.title(f\"Original → {init_pred.item()}\")\n",
    "    plt.axis('off')\n",
    "\n",
    "    plt.subplot(1, 2, 2)\n",
    "    plt.imshow(perturbed_data.squeeze().detach().numpy(), cmap=\"gray\")\n",
    "    plt.title(f\"Adversarial → {final_pred.item()}\")\n",
    "    plt.axis('off')\n",
    "    plt.show()\n"
   ]
  },
  {
   "cell_type": "markdown",
   "id": "25ba9129",
   "metadata": {},
   "source": [
    "# STEP 4 - Mass attack"
   ]
  },
  {
   "cell_type": "code",
   "execution_count": 10,
   "id": "75a481cf",
   "metadata": {},
   "outputs": [],
   "source": [
    "epsilon = 0.2  # quanto \"rumore\" avversario vuoi aggiungere (già usato prima)\n"
   ]
  },
  {
   "cell_type": "code",
   "execution_count": 11,
   "id": "850e7598",
   "metadata": {},
   "outputs": [
    {
     "name": "stdout",
     "output_type": "stream",
     "text": [
      "Test Accuracy under FGSM Attack (ε=0.2): 0.16%\n"
     ]
    }
   ],
   "source": [
    "correct = 0\n",
    "adv_examples = []\n",
    "\n",
    "# Usiamo un nuovo dataloader per iterare sul test set\n",
    "test_loader = torch.utils.data.DataLoader(test_dataset, batch_size=1, shuffle=True)\n",
    "\n",
    "# Disattiva modalità training\n",
    "model.eval()\n",
    "\n",
    "# Loop su tutte le immagini del test set\n",
    "for data, target in test_loader:\n",
    "    data.requires_grad = True  # attiviamo il gradiente\n",
    "\n",
    "    # Predizione iniziale\n",
    "    output = model(data)\n",
    "    init_pred = output.max(1, keepdim=True)[1]\n",
    "\n",
    "    # Se la predizione è già sbagliata, saltiamo\n",
    "    if init_pred.item() != target.item():\n",
    "        continue\n",
    "\n",
    "    # Calcolo della loss e backward\n",
    "    loss = criterion(output, target)\n",
    "    model.zero_grad()\n",
    "    loss.backward()\n",
    "    data_grad = data.grad.data\n",
    "\n",
    "    # Applica l'attacco FGSM\n",
    "    perturbed_data = fgsm_attack(data, epsilon, data_grad)\n",
    "\n",
    "    # Rilancia la predizione sull'immagine modificata\n",
    "    output = model(perturbed_data)\n",
    "    final_pred = output.max(1, keepdim=True)[1]\n",
    "\n",
    "    if final_pred.item() == target.item():\n",
    "        correct += 1  # ancora corretto → bravo modello\n",
    "    else:\n",
    "        # salviamo un esempio adversariale (massimo 5)\n",
    "        if len(adv_examples) < 5:\n",
    "            adv_examples.append( (init_pred.item(), final_pred.item(), perturbed_data.squeeze().detach()) )\n",
    "\n",
    "# Calcola nuova accuracy\n",
    "final_acc = correct / float(len(test_loader)) * 100\n",
    "print(f\"Test Accuracy under FGSM Attack (ε={epsilon}): {final_acc:.2f}%\")\n"
   ]
  },
  {
   "cell_type": "code",
   "execution_count": 14,
   "id": "805084bd",
   "metadata": {},
   "outputs": [
    {
     "data": {
      "image/png": "[encoded data removed]",
      "text/plain": [
       "<Figure size 1000x300 with 5 Axes>"
      ]
     },
     "metadata": {},
     "output_type": "display_data"
    }
   ],
   "source": [
    "import matplotlib.pyplot as plt\n",
    "\n",
    "plt.figure(figsize=(10,3))\n",
    "for i, (orig, adv, img) in enumerate(adv_examples):\n",
    "    plt.subplot(1, 5, i+1)\n",
    "    plt.imshow(img.numpy(), cmap=\"gray\")\n",
    "    plt.title(f\"{orig} → {adv}\")\n",
    "    plt.axis('off')\n",
    "plt.suptitle(\"Examples of Adversarial Images\")\n",
    "plt.show()\n"
   ]
  }
 ],
 "metadata": {
  "kernelspec": {
   "display_name": "Python 3",
   "language": "python",
   "name": "python3"
  },
  "language_info": {
   "codemirror_mode": {
    "name": "ipython",
    "version": 3
   },
   "file_extension": ".py",
   "mimetype": "text/x-python",
   "name": "python",
   "nbconvert_exporter": "python",
   "pygments_lexer": "ipython3",
   "version": "3.13.3"
  }
 },
 "nbformat": 4,
 "nbformat_minor": 5
}
